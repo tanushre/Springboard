{
 "cells": [
  {
   "cell_type": "markdown",
   "metadata": {},
   "source": [
    "# XML example and exercise\n",
    "****\n",
    "+ study examples of accessing nodes in XML tree structure  \n",
    "+ work on exercise to be completed and submitted\n",
    "****\n",
    "+ reference: https://docs.python.org/2.7/library/xml.etree.elementtree.html\n",
    "+ data source: http://www.dbis.informatik.uni-goettingen.de/Mondial\n",
    "****"
   ]
  },
  {
   "cell_type": "code",
   "execution_count": 40,
   "metadata": {
    "collapsed": true
   },
   "outputs": [],
   "source": [
    "from xml.etree import ElementTree as ET\n",
    "from xml.etree.ElementTree import Element\n",
    "from xml.etree.ElementTree import SubElement"
   ]
  },
  {
   "cell_type": "markdown",
   "metadata": {},
   "source": [
    "## XML example\n",
    "\n",
    "+ for details about tree traversal and iterators, see https://docs.python.org/2.7/library/xml.etree.elementtree.html"
   ]
  },
  {
   "cell_type": "code",
   "execution_count": 41,
   "metadata": {
    "collapsed": true
   },
   "outputs": [],
   "source": [
    "document_tree = ET.parse( './data/mondial_database_less.xml' )"
   ]
  },
  {
   "cell_type": "code",
   "execution_count": 42,
   "metadata": {
    "collapsed": false
   },
   "outputs": [],
   "source": [
    "# print names of all countries\n",
    "for child in document_tree.getroot():\n",
    "    print child.find('name').text"
   ]
  },
  {
   "cell_type": "code",
   "execution_count": 43,
   "metadata": {
    "collapsed": false
   },
   "outputs": [],
   "source": [
    "# print names of all countries and their cities\n",
    "for element in document_tree.iterfind('country'):\n",
    "    print '* ' + element.find('name').text + ':',\n",
    "    capitals_string = ''\n",
    "    for subelement in element.getiterator('city'):\n",
    "        capitals_string += subelement.find('name').text + ', '\n",
    "    print capitals_string[:-2]"
   ]
  },
  {
   "cell_type": "markdown",
   "metadata": {},
   "source": [
    "****\n",
    "## XML exercise\n",
    "\n",
    "Using data in 'data/mondial_database.xml', the examples above, and refering to https://docs.python.org/2.7/library/xml.etree.elementtree.html, find\n",
    "\n",
    "1. 10 countries with the lowest infant mortality rates\n",
    "2. 10 cities with the largest population\n",
    "3. 10 ethnic groups with the largest overall populations (sum of best/latest estimates over all countries)\n",
    "4. name and country of a) longest river, b) largest lake and c) airport at highest elevation"
   ]
  },
  {
   "cell_type": "code",
   "execution_count": 44,
   "metadata": {
    "collapsed": false
   },
   "outputs": [],
   "source": [
    "document = ET.parse( './data/mondial_database.xml' )"
   ]
  },
  {
   "cell_type": "code",
   "execution_count": 45,
   "metadata": {
    "collapsed": false
   },
   "outputs": [
    {
     "data": {
      "text/html": [
       "<div>\n",
       "<table border=\"1\" class=\"dataframe\">\n",
       "  <thead>\n",
       "    <tr style=\"text-align: right;\">\n",
       "      <th></th>\n",
       "      <th>Countries</th>\n",
       "      <th>Infant mortality</th>\n",
       "    </tr>\n",
       "  </thead>\n",
       "  <tbody>\n",
       "    <tr>\n",
       "      <th>38</th>\n",
       "      <td>Monaco</td>\n",
       "      <td>1.81</td>\n",
       "    </tr>\n",
       "    <tr>\n",
       "      <th>98</th>\n",
       "      <td>Japan</td>\n",
       "      <td>2.13</td>\n",
       "    </tr>\n",
       "    <tr>\n",
       "      <th>117</th>\n",
       "      <td>Bermuda</td>\n",
       "      <td>2.48</td>\n",
       "    </tr>\n",
       "    <tr>\n",
       "      <th>36</th>\n",
       "      <td>Norway</td>\n",
       "      <td>2.48</td>\n",
       "    </tr>\n",
       "    <tr>\n",
       "      <th>106</th>\n",
       "      <td>Singapore</td>\n",
       "      <td>2.53</td>\n",
       "    </tr>\n",
       "    <tr>\n",
       "      <th>37</th>\n",
       "      <td>Sweden</td>\n",
       "      <td>2.60</td>\n",
       "    </tr>\n",
       "    <tr>\n",
       "      <th>10</th>\n",
       "      <td>Czech Republic</td>\n",
       "      <td>2.63</td>\n",
       "    </tr>\n",
       "    <tr>\n",
       "      <th>78</th>\n",
       "      <td>Hong Kong</td>\n",
       "      <td>2.73</td>\n",
       "    </tr>\n",
       "    <tr>\n",
       "      <th>79</th>\n",
       "      <td>Macao</td>\n",
       "      <td>3.13</td>\n",
       "    </tr>\n",
       "    <tr>\n",
       "      <th>44</th>\n",
       "      <td>Iceland</td>\n",
       "      <td>3.15</td>\n",
       "    </tr>\n",
       "  </tbody>\n",
       "</table>\n",
       "</div>"
      ],
      "text/plain": [
       "          Countries  Infant mortality\n",
       "38           Monaco              1.81\n",
       "98            Japan              2.13\n",
       "117         Bermuda              2.48\n",
       "36           Norway              2.48\n",
       "106       Singapore              2.53\n",
       "37           Sweden              2.60\n",
       "10   Czech Republic              2.63\n",
       "78        Hong Kong              2.73\n",
       "79            Macao              3.13\n",
       "44          Iceland              3.15"
      ]
     },
     "execution_count": 45,
     "metadata": {},
     "output_type": "execute_result"
    }
   ],
   "source": [
    "import pandas as pd\n",
    "countries=[]\n",
    "mortality=[]\n",
    "dfs= pd.DataFrame()\n",
    "for element in document.iterfind('country'):\n",
    "  country=element.find('name').text\n",
    "  countries.append(country)\n",
    "  try:\n",
    "      infant_mortality=element.find('infant_mortality').text\n",
    "      mortality.append(float(infant_mortality))\n",
    "   \n",
    "  except:\n",
    "      infant_mortality=\"NAN\"\n",
    "      mortality.append(float(infant_mortality))\n",
    "      continue\n",
    "df=pd.DataFrame({\"Countries\":countries, \"Infant mortality\":mortality})\n",
    "df.sort_values(by = 'Infant mortality',ascending=True).head(10)\n",
    "\n"
   ]
  },
  {
   "cell_type": "code",
   "execution_count": 46,
   "metadata": {
    "collapsed": false
   },
   "outputs": [
    {
     "data": {
      "text/plain": [
       "<matplotlib.axes._subplots.AxesSubplot at 0x7f4c91cc61d0>"
      ]
     },
     "execution_count": 46,
     "metadata": {},
     "output_type": "execute_result"
    },
    {
     "data": {
      "image/png": "[encoded data removed]",
      "text/plain": [
       "<matplotlib.figure.Figure at 0x7f4c90c93750>"
      ]
     },
     "metadata": {},
     "output_type": "display_data"
    }
   ],
   "source": [
    "tree = ET.parse('./data/mondial_database.xml')\n",
    "root = tree.getroot()\n",
    "\n",
    "#create lists to store the data for lately built the dataframe up.\n",
    "city_list=[]\n",
    "year_list=[]\n",
    "popu_list=[]\n",
    "\n",
    "    \n",
    "for element in root.iter('country'): #go to node country\n",
    "\n",
    "    for city in element.iter('city'): #go to the child city\n",
    "        cities=city.find('name').text # take the name of the city\n",
    "        for pop in city.iter(): \n",
    "            if pop.tag == 'population': #take only the population elements\n",
    "                city_list.append(cities) #fill the lists above created with the city names\n",
    "                year_list.append(int(pop.attrib.get('year'))) #fill the year_list with the atributes of the population atribute Year. \n",
    "                popu_list.append(int(pop.text)) #fill the population list with the population   \n",
    "\n",
    "                \n",
    "#put the lists together into a dataframe\n",
    "dfcaca=pd.DataFrame({'City':city_list, 'Year':year_list, 'Population':popu_list})\n",
    "            #print pop.find('population').text\n",
    "\n",
    "#to report the cities with the largest population we only consider the last measurement for \n",
    "#each city. Therefore, we only take the last population data and the rest are remevoed.  \n",
    "NoDupli=dfcaca.sort_values(by= ['Year','Population'],ascending=True).drop_duplicates(['City'],keep='last')\n",
    "#Finally the dataframe is sorted by population:\n",
    "Top10 = NoDupli.sort_values(by = 'Population',ascending=False).head(10).set_index(['City'])\n",
    "\n",
    "Top10.sort(['Population']).plot(kind='barh', stacked= True, title= \"Cities with Highest Population\", figsize=(6,6), fontsize= 14)"
   ]
  },
  {
   "cell_type": "code",
   "execution_count": 47,
   "metadata": {
    "collapsed": false
   },
   "outputs": [],
   "source": [
    "%pylab inline\n",
    "import sys\n",
    "reload(sys)\n",
    "sys.setdefaultencoding('utf8')\n"
   ]
  },
  {
   "cell_type": "code",
   "execution_count": 48,
   "metadata": {
    "collapsed": false
   },
   "outputs": [
    {
     "data": {
      "text/html": [
       "<div>\n",
       "<table border=\"1\" class=\"dataframe\">\n",
       "  <thead>\n",
       "    <tr style=\"text-align: right;\">\n",
       "      <th></th>\n",
       "      <th>Country</th>\n",
       "      <th>Ethenic_list</th>\n",
       "      <th>Percentage</th>\n",
       "    </tr>\n",
       "  </thead>\n",
       "  <tbody>\n",
       "    <tr>\n",
       "      <th>0</th>\n",
       "      <td>Albania</td>\n",
       "      <td>Albanian</td>\n",
       "      <td>95.0</td>\n",
       "    </tr>\n",
       "    <tr>\n",
       "      <th>1</th>\n",
       "      <td>Albania</td>\n",
       "      <td>Greek</td>\n",
       "      <td>3.0</td>\n",
       "    </tr>\n",
       "    <tr>\n",
       "      <th>2</th>\n",
       "      <td>Greece</td>\n",
       "      <td>Greek</td>\n",
       "      <td>93.0</td>\n",
       "    </tr>\n",
       "    <tr>\n",
       "      <th>3</th>\n",
       "      <td>Macedonia</td>\n",
       "      <td>Macedonian</td>\n",
       "      <td>64.2</td>\n",
       "    </tr>\n",
       "    <tr>\n",
       "      <th>4</th>\n",
       "      <td>Macedonia</td>\n",
       "      <td>Albanian</td>\n",
       "      <td>25.2</td>\n",
       "    </tr>\n",
       "    <tr>\n",
       "      <th>5</th>\n",
       "      <td>Macedonia</td>\n",
       "      <td>Turkish</td>\n",
       "      <td>3.9</td>\n",
       "    </tr>\n",
       "    <tr>\n",
       "      <th>6</th>\n",
       "      <td>Macedonia</td>\n",
       "      <td>Gypsy</td>\n",
       "      <td>2.7</td>\n",
       "    </tr>\n",
       "    <tr>\n",
       "      <th>7</th>\n",
       "      <td>Macedonia</td>\n",
       "      <td>Serb</td>\n",
       "      <td>1.8</td>\n",
       "    </tr>\n",
       "    <tr>\n",
       "      <th>8</th>\n",
       "      <td>Serbia</td>\n",
       "      <td>Serb</td>\n",
       "      <td>82.9</td>\n",
       "    </tr>\n",
       "    <tr>\n",
       "      <th>9</th>\n",
       "      <td>Serbia</td>\n",
       "      <td>Montenegrin</td>\n",
       "      <td>0.9</td>\n",
       "    </tr>\n",
       "  </tbody>\n",
       "</table>\n",
       "</div>"
      ],
      "text/plain": [
       "     Country Ethenic_list  Percentage\n",
       "0    Albania     Albanian        95.0\n",
       "1    Albania        Greek         3.0\n",
       "2     Greece        Greek        93.0\n",
       "3  Macedonia   Macedonian        64.2\n",
       "4  Macedonia     Albanian        25.2\n",
       "5  Macedonia      Turkish         3.9\n",
       "6  Macedonia        Gypsy         2.7\n",
       "7  Macedonia         Serb         1.8\n",
       "8     Serbia         Serb        82.9\n",
       "9     Serbia  Montenegrin         0.9"
      ]
     },
     "execution_count": 48,
     "metadata": {},
     "output_type": "execute_result"
    }
   ],
   "source": [
    "county_list = []\n",
    "ethenic_list = []\n",
    "percentage_list = []\n",
    "countries_popus = []\n",
    "popu_country = []\n",
    "popu_year = []\n",
    "\n",
    "for element in root.iter('country'):\n",
    "    countries = element.find('name').text\n",
    "    for pop in element.iter():\n",
    "        \n",
    "        if pop.tag == 'population':\n",
    "            countries_popus.append(countries)\n",
    "            popu_year.append(int(pop.attrib.get('year')))\n",
    "            popu_country.append(int(pop.text))\n",
    "            \n",
    "        elif pop.tag == 'city' or pop.tag == 'province':\n",
    "            break\n",
    "\n",
    "            \n",
    "    for items in element.iter():\n",
    "        \n",
    "        if items.tag == 'ethnicgroup':\n",
    "            county_list.append(countries)\n",
    "            percentage_list.append(float(items.attrib.get(\"percentage\")))\n",
    "            ethenic_list.append(items.text)\n",
    "\n",
    "Ethenic_per_country = pd.DataFrame({\"Country\": county_list, \"Ethenic_list\":ethenic_list, \"Percentage\": percentage_list})\n",
    "\n",
    "popu_year = pd.DataFrame({\"countries\": countries_popus, \"Population_Country\": popu_country, \"Year\": popu_year})\n",
    "\n",
    "C = []\n",
    "P = []\n",
    "\n",
    "for item in popu_year.countries.unique():\n",
    "    \n",
    "    C.append(item)\n",
    "    \n",
    "    data = popu_year[popu_year.countries == item].sort(\"Year\", ascending = False)\n",
    "    best_estimate = data[data[\"Year\"] == data.Year.max()].Population_Country\n",
    "    P.append(int(best_estimate))\n",
    "    \n",
    "CP = pd.DataFrame({\"Country\": C, \"Population\": P})\n",
    "\n",
    "CP.head(10)\n",
    "Ethenic_per_country.head(10)"
   ]
  },
  {
   "cell_type": "code",
   "execution_count": 49,
   "metadata": {
    "collapsed": false
   },
   "outputs": [
    {
     "data": {
      "text/html": [
       "<div>\n",
       "<table border=\"1\" class=\"dataframe\">\n",
       "  <thead>\n",
       "    <tr style=\"text-align: right;\">\n",
       "      <th></th>\n",
       "      <th>Country</th>\n",
       "      <th>Ethenic_list</th>\n",
       "      <th>Percentage</th>\n",
       "      <th>Population</th>\n",
       "      <th>group_popu</th>\n",
       "    </tr>\n",
       "  </thead>\n",
       "  <tbody>\n",
       "    <tr>\n",
       "      <th>0</th>\n",
       "      <td>Afghanistan</td>\n",
       "      <td>Tajik</td>\n",
       "      <td>25.0</td>\n",
       "      <td>26023100</td>\n",
       "      <td>6505775.0</td>\n",
       "    </tr>\n",
       "    <tr>\n",
       "      <th>1</th>\n",
       "      <td>Afghanistan</td>\n",
       "      <td>Pashtun</td>\n",
       "      <td>38.0</td>\n",
       "      <td>26023100</td>\n",
       "      <td>9888778.0</td>\n",
       "    </tr>\n",
       "    <tr>\n",
       "      <th>2</th>\n",
       "      <td>Afghanistan</td>\n",
       "      <td>Uzbek</td>\n",
       "      <td>6.0</td>\n",
       "      <td>26023100</td>\n",
       "      <td>1561386.0</td>\n",
       "    </tr>\n",
       "    <tr>\n",
       "      <th>3</th>\n",
       "      <td>Afghanistan</td>\n",
       "      <td>Hazara</td>\n",
       "      <td>19.0</td>\n",
       "      <td>26023100</td>\n",
       "      <td>4944389.0</td>\n",
       "    </tr>\n",
       "    <tr>\n",
       "      <th>4</th>\n",
       "      <td>Albania</td>\n",
       "      <td>Albanian</td>\n",
       "      <td>95.0</td>\n",
       "      <td>2800138</td>\n",
       "      <td>2660131.1</td>\n",
       "    </tr>\n",
       "  </tbody>\n",
       "</table>\n",
       "</div>"
      ],
      "text/plain": [
       "       Country Ethenic_list  Percentage  Population  group_popu\n",
       "0  Afghanistan        Tajik        25.0    26023100   6505775.0\n",
       "1  Afghanistan      Pashtun        38.0    26023100   9888778.0\n",
       "2  Afghanistan        Uzbek         6.0    26023100   1561386.0\n",
       "3  Afghanistan       Hazara        19.0    26023100   4944389.0\n",
       "4      Albania     Albanian        95.0     2800138   2660131.1"
      ]
     },
     "execution_count": 49,
     "metadata": {},
     "output_type": "execute_result"
    }
   ],
   "source": [
    "ethenic_popu = pd.DataFrame.merge(Ethenic_per_country.sort(\"Country\"), CP.sort(\"Country\"))\n",
    "ethenic_popu.loc[:, \"group_popu\"] = pd.Series((ethenic_popu.Percentage/100)* ethenic_popu.Population, index = ethenic_popu.index)\n",
    "ethenic_popu.head(5)"
   ]
  },
  {
   "cell_type": "code",
   "execution_count": 50,
   "metadata": {
    "collapsed": false
   },
   "outputs": [
    {
     "data": {
      "text/html": [
       "<div>\n",
       "<table border=\"1\" class=\"dataframe\">\n",
       "  <thead>\n",
       "    <tr style=\"text-align: right;\">\n",
       "      <th></th>\n",
       "      <th>group_popu</th>\n",
       "    </tr>\n",
       "    <tr>\n",
       "      <th>Ethenic_list</th>\n",
       "      <th></th>\n",
       "    </tr>\n",
       "  </thead>\n",
       "  <tbody>\n",
       "    <tr>\n",
       "      <th>Han Chinese</th>\n",
       "      <td>1.245059e+09</td>\n",
       "    </tr>\n",
       "    <tr>\n",
       "      <th>Indo-Aryan</th>\n",
       "      <td>8.718156e+08</td>\n",
       "    </tr>\n",
       "    <tr>\n",
       "      <th>European</th>\n",
       "      <td>4.948722e+08</td>\n",
       "    </tr>\n",
       "    <tr>\n",
       "      <th>African</th>\n",
       "      <td>3.183251e+08</td>\n",
       "    </tr>\n",
       "    <tr>\n",
       "      <th>Dravidian</th>\n",
       "      <td>3.027137e+08</td>\n",
       "    </tr>\n",
       "    <tr>\n",
       "      <th>Mestizo</th>\n",
       "      <td>1.577344e+08</td>\n",
       "    </tr>\n",
       "    <tr>\n",
       "      <th>Bengali</th>\n",
       "      <td>1.467769e+08</td>\n",
       "    </tr>\n",
       "    <tr>\n",
       "      <th>Russian</th>\n",
       "      <td>1.318570e+08</td>\n",
       "    </tr>\n",
       "    <tr>\n",
       "      <th>Japanese</th>\n",
       "      <td>1.265342e+08</td>\n",
       "    </tr>\n",
       "    <tr>\n",
       "      <th>Malay</th>\n",
       "      <td>1.219936e+08</td>\n",
       "    </tr>\n",
       "  </tbody>\n",
       "</table>\n",
       "</div>"
      ],
      "text/plain": [
       "                group_popu\n",
       "Ethenic_list              \n",
       "Han Chinese   1.245059e+09\n",
       "Indo-Aryan    8.718156e+08\n",
       "European      4.948722e+08\n",
       "African       3.183251e+08\n",
       "Dravidian     3.027137e+08\n",
       "Mestizo       1.577344e+08\n",
       "Bengali       1.467769e+08\n",
       "Russian       1.318570e+08\n",
       "Japanese      1.265342e+08\n",
       "Malay         1.219936e+08"
      ]
     },
     "execution_count": 50,
     "metadata": {},
     "output_type": "execute_result"
    }
   ],
   "source": [
    "result = ethenic_popu[['Ethenic_list','group_popu']]\n",
    "\n",
    "final = result.groupby(\"Ethenic_list\")[[\"group_popu\"]].sum()\n",
    "p = final.sort(\"group_popu\", ascending=False).head(10)\n",
    "p"
   ]
  },
  {
   "cell_type": "code",
   "execution_count": 51,
   "metadata": {
    "collapsed": false
   },
   "outputs": [
    {
     "data": {
      "text/plain": [
       "<matplotlib.axes._subplots.AxesSubplot at 0x7f4c91a020d0>"
      ]
     },
     "execution_count": 51,
     "metadata": {},
     "output_type": "execute_result"
    },
    {
     "data": {
      "image/png": "[encoded data removed]",
      "text/plain": [
       "<matplotlib.figure.Figure at 0x7f4cbc0ffd90>"
      ]
     },
     "metadata": {},
     "output_type": "display_data"
    }
   ],
   "source": [
    "p.plot(kind = \"Barh\", stacked = True, title= \"Ethenic Groups with largest Population\", fontsize = 14)"
   ]
  },
  {
   "cell_type": "code",
   "execution_count": 15,
   "metadata": {
    "collapsed": false
   },
   "outputs": [
    {
     "data": {
      "text/html": [
       "<div>\n",
       "<table border=\"1\" class=\"dataframe\">\n",
       "  <thead>\n",
       "    <tr style=\"text-align: right;\">\n",
       "      <th></th>\n",
       "      <th>Name</th>\n",
       "      <th>Countries</th>\n",
       "    </tr>\n",
       "  </thead>\n",
       "  <tbody>\n",
       "    <tr>\n",
       "      <th>4</th>\n",
       "      <td>Mississippi–Missouri–Jefferson</td>\n",
       "      <td>United States (98.5%), Canada (1.5%)</td>\n",
       "    </tr>\n",
       "  </tbody>\n",
       "</table>\n",
       "</div>"
      ],
      "text/plain": [
       "                             Name                             Countries\n",
       "4  Mississippi–Missouri–Jefferson  United States (98.5%), Canada (1.5%)"
      ]
     },
     "execution_count": 15,
     "metadata": {},
     "output_type": "execute_result"
    }
   ],
   "source": [
    "\n",
    "import html5lib\n",
    "import pandas as pd\n",
    "river_table = pd.read_html('https://en.wikipedia.org/wiki/List_of_rivers_by_length')\n",
    "\n",
    "rivers = river_table[5]\n",
    "\n",
    "rivers.columns = ['River','Name','Length_km', 'length_miles', 'Drainage_area_km2', 'Average_Discharge_m3/s', 'Outflow','Countries']\n",
    "\n",
    "rivers = rivers.drop(rivers.head(1).index)\n",
    "rivers.sort_values(by='Length_km', ascending = False).head(1)[['Name', 'Countries']]\n",
    "\n",
    "#rivers.head(10)\n",
    "\n",
    "#river_table[5]"
   ]
  },
  {
   "cell_type": "code",
   "execution_count": 19,
   "metadata": {
    "collapsed": false
   },
   "outputs": [
    {
     "data": {
      "text/html": [
       "<div>\n",
       "<table border=\"1\" class=\"dataframe\">\n",
       "  <thead>\n",
       "    <tr style=\"text-align: right;\">\n",
       "      <th></th>\n",
       "      <th>Name</th>\n",
       "      <th>Countries</th>\n",
       "    </tr>\n",
       "  </thead>\n",
       "  <tbody>\n",
       "    <tr>\n",
       "      <th>1</th>\n",
       "      <td>Caspian Sea*</td>\n",
       "      <td>Kazakhstan  Russia  Turkmenistan  Azerbaijan  ...</td>\n",
       "    </tr>\n",
       "  </tbody>\n",
       "</table>\n",
       "</div>"
      ],
      "text/plain": [
       "           Name                                          Countries\n",
       "1  Caspian Sea*  Kazakhstan  Russia  Turkmenistan  Azerbaijan  ..."
      ]
     },
     "execution_count": 19,
     "metadata": {},
     "output_type": "execute_result"
    }
   ],
   "source": [
    "lake_table= pd.read_html('https://en.wikipedia.org/wiki/List_of_lakes_by_area')\n",
    "\n",
    "Lakes=lake_table[1]\n",
    "Lakes.columns = ['NaN','Name', 'Countries','Area','Length','Maximum_depth','Water_volume','Thumbnail', 'Notes']\n",
    "Lakes.set_index('Name')\n",
    "#Drop the first row which shows the index twice\n",
    "Lakes=Lakes.drop(Lakes.head(1).index)#.set_index('Name')\n",
    "#Lakes.head(1)\n",
    "\n",
    "Lakes.sort_values(by='Length', ascending=False).head(1)[['Name','Countries']]"
   ]
  },
  {
   "cell_type": "code",
   "execution_count": 20,
   "metadata": {
    "collapsed": false
   },
   "outputs": [
    {
     "data": {
      "text/html": [
       "<div>\n",
       "<table border=\"1\" class=\"dataframe\">\n",
       "  <thead>\n",
       "    <tr style=\"text-align: right;\">\n",
       "      <th></th>\n",
       "      <th>Airport_Name</th>\n",
       "      <th>Countries</th>\n",
       "    </tr>\n",
       "  </thead>\n",
       "  <tbody>\n",
       "    <tr>\n",
       "      <th>1</th>\n",
       "      <td>Daocheng Yading Airport</td>\n",
       "      <td>China</td>\n",
       "    </tr>\n",
       "  </tbody>\n",
       "</table>\n",
       "</div>"
      ],
      "text/plain": [
       "              Airport_Name Countries\n",
       "1  Daocheng Yading Airport     China"
      ]
     },
     "execution_count": 20,
     "metadata": {},
     "output_type": "execute_result"
    }
   ],
   "source": [
    "\n",
    "airport_table= pd.read_html('https://en.wikipedia.org/wiki/List_of_highest_commercial_airports')\n",
    "airports=airport_table[0]\n",
    "\n",
    "airports.columns = ['Airport_Name', 'Countries','Coordinates ','Elevation(m)','Elevation(ft)']\n",
    "airports=airports.drop(airports.head(1).index)#.set_index('Name')\n",
    "airports.sort_values(by=\"Elevation(m)\",ascending=False).head(1)[[\"Airport_Name\",\"Countries\"]] "
   ]
  },
  {
   "cell_type": "code",
   "execution_count": null,
   "metadata": {
    "collapsed": true
   },
   "outputs": [],
   "source": []
  },
  {
   "cell_type": "code",
   "execution_count": null,
   "metadata": {
    "collapsed": true
   },
   "outputs": [],
   "source": []
  },
  {
   "cell_type": "code",
   "execution_count": null,
   "metadata": {
    "collapsed": true
   },
   "outputs": [],
   "source": []
  },
  {
   "cell_type": "code",
   "execution_count": null,
   "metadata": {
    "collapsed": true
   },
   "outputs": [],
   "source": []
  },
  {
   "cell_type": "code",
   "execution_count": null,
   "metadata": {
    "collapsed": true
   },
   "outputs": [],
   "source": []
  },
  {
   "cell_type": "code",
   "execution_count": null,
   "metadata": {
    "collapsed": true
   },
   "outputs": [],
   "source": []
  },
  {
   "cell_type": "code",
   "execution_count": null,
   "metadata": {
    "collapsed": true
   },
   "outputs": [],
   "source": []
  },
  {
   "cell_type": "code",
   "execution_count": null,
   "metadata": {
    "collapsed": true
   },
   "outputs": [],
   "source": []
  },
  {
   "cell_type": "code",
   "execution_count": null,
   "metadata": {
    "collapsed": true
   },
   "outputs": [],
   "source": []
  },
  {
   "cell_type": "code",
   "execution_count": null,
   "metadata": {
    "collapsed": true
   },
   "outputs": [],
   "source": []
  },
  {
   "cell_type": "code",
   "execution_count": null,
   "metadata": {
    "collapsed": true
   },
   "outputs": [],
   "source": []
  },
  {
   "cell_type": "code",
   "execution_count": null,
   "metadata": {
    "collapsed": true
   },
   "outputs": [],
   "source": []
  },
  {
   "cell_type": "code",
   "execution_count": null,
   "metadata": {
    "collapsed": true
   },
   "outputs": [],
   "source": []
  }
 ],
 "metadata": {
  "kernelspec": {
   "display_name": "Python 2",
   "language": "python",
   "name": "python2"
  },
  "language_info": {
   "codemirror_mode": {
    "name": "ipython",
    "version": 2
   },
   "file_extension": ".py",
   "mimetype": "text/x-python",
   "name": "python",
   "nbconvert_exporter": "python",
   "pygments_lexer": "ipython2",
   "version": "2.7.11"
  }
 },
 "nbformat": 4,
 "nbformat_minor": 0
}
